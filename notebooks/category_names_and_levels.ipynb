{
 "cells": [
  {
   "cell_type": "code",
   "execution_count": 1,
   "metadata": {},
   "outputs": [],
   "source": [
    "import pandas as pd"
   ]
  },
  {
   "cell_type": "code",
   "execution_count": 2,
   "metadata": {},
   "outputs": [],
   "source": [
    "category_data = pd.read_csv(\"../data/category_names.csv\")"
   ]
  },
  {
   "cell_type": "code",
   "execution_count": 3,
   "metadata": {},
   "outputs": [
    {
     "data": {
      "text/html": [
       "<div>\n",
       "<style>\n",
       "    .dataframe thead tr:only-child th {\n",
       "        text-align: right;\n",
       "    }\n",
       "\n",
       "    .dataframe thead th {\n",
       "        text-align: left;\n",
       "    }\n",
       "\n",
       "    .dataframe tbody tr th {\n",
       "        vertical-align: top;\n",
       "    }\n",
       "</style>\n",
       "<table border=\"1\" class=\"dataframe\">\n",
       "  <thead>\n",
       "    <tr style=\"text-align: right;\">\n",
       "      <th></th>\n",
       "      <th>category_id</th>\n",
       "      <th>category_level1</th>\n",
       "      <th>category_level2</th>\n",
       "      <th>category_level3</th>\n",
       "    </tr>\n",
       "  </thead>\n",
       "  <tbody>\n",
       "    <tr>\n",
       "      <th>0</th>\n",
       "      <td>1000021794</td>\n",
       "      <td>ABONNEMENT / SERVICES</td>\n",
       "      <td>CARTE PREPAYEE</td>\n",
       "      <td>CARTE PREPAYEE MULTIMEDIA</td>\n",
       "    </tr>\n",
       "    <tr>\n",
       "      <th>1</th>\n",
       "      <td>1000012764</td>\n",
       "      <td>AMENAGEMENT URBAIN - VOIRIE</td>\n",
       "      <td>AMENAGEMENT URBAIN</td>\n",
       "      <td>ABRI FUMEUR</td>\n",
       "    </tr>\n",
       "    <tr>\n",
       "      <th>2</th>\n",
       "      <td>1000012776</td>\n",
       "      <td>AMENAGEMENT URBAIN - VOIRIE</td>\n",
       "      <td>AMENAGEMENT URBAIN</td>\n",
       "      <td>ABRI VELO - ABRI MOTO</td>\n",
       "    </tr>\n",
       "    <tr>\n",
       "      <th>3</th>\n",
       "      <td>1000012768</td>\n",
       "      <td>AMENAGEMENT URBAIN - VOIRIE</td>\n",
       "      <td>AMENAGEMENT URBAIN</td>\n",
       "      <td>FONTAINE A EAU</td>\n",
       "    </tr>\n",
       "    <tr>\n",
       "      <th>4</th>\n",
       "      <td>1000012755</td>\n",
       "      <td>AMENAGEMENT URBAIN - VOIRIE</td>\n",
       "      <td>SIGNALETIQUE</td>\n",
       "      <td>PANNEAU D'INFORMATION EXTERIEUR</td>\n",
       "    </tr>\n",
       "  </tbody>\n",
       "</table>\n",
       "</div>"
      ],
      "text/plain": [
       "   category_id              category_level1     category_level2  \\\n",
       "0   1000021794        ABONNEMENT / SERVICES      CARTE PREPAYEE   \n",
       "1   1000012764  AMENAGEMENT URBAIN - VOIRIE  AMENAGEMENT URBAIN   \n",
       "2   1000012776  AMENAGEMENT URBAIN - VOIRIE  AMENAGEMENT URBAIN   \n",
       "3   1000012768  AMENAGEMENT URBAIN - VOIRIE  AMENAGEMENT URBAIN   \n",
       "4   1000012755  AMENAGEMENT URBAIN - VOIRIE        SIGNALETIQUE   \n",
       "\n",
       "                   category_level3  \n",
       "0        CARTE PREPAYEE MULTIMEDIA  \n",
       "1                      ABRI FUMEUR  \n",
       "2            ABRI VELO - ABRI MOTO  \n",
       "3                   FONTAINE A EAU  \n",
       "4  PANNEAU D'INFORMATION EXTERIEUR  "
      ]
     },
     "execution_count": 3,
     "metadata": {},
     "output_type": "execute_result"
    }
   ],
   "source": [
    "category_data.head()"
   ]
  },
  {
   "cell_type": "code",
   "execution_count": 4,
   "metadata": {},
   "outputs": [
    {
     "name": "stdout",
     "output_type": "stream",
     "text": [
      "Level 1 nb:49\n",
      "Level 2 nb:483\n",
      "Level 3 nb:5263\n"
     ]
    }
   ],
   "source": [
    "print(\"Level 1 nb:\" + str(len(set(category_data.category_level1))))\n",
    "print(\"Level 2 nb:\" + str(len(set(category_data.category_level2))))\n",
    "print(\"Level 3 nb:\" + str(len(set(category_data.category_level3))))"
   ]
  },
  {
   "cell_type": "markdown",
   "metadata": {},
   "source": [
    "### Show number of distinct category_levels3 names per lv1 and lv2"
   ]
  },
  {
   "cell_type": "code",
   "execution_count": 5,
   "metadata": {},
   "outputs": [
    {
     "data": {
      "text/plain": [
       "                 category_level1                        category_level2                       \n",
       "category_id      ABONNEMENT / SERVICES                  CARTE PREPAYEE                             1\n",
       "                 AMENAGEMENT URBAIN - VOIRIE            AMENAGEMENT URBAIN                         3\n",
       "                                                        SIGNALETIQUE                               1\n",
       "                                                        SIGNALISATION ROUTIERE                     3\n",
       "                                                        VOIRIE                                     2\n",
       "                 ANIMALERIE                             ACCESSOIRE POUR REPAS                     11\n",
       "                                                        ALIMENTATION                              13\n",
       "                                                        AMENAGEMENT TECHNIQUE DE L'HABITAT         8\n",
       "                                                        ATTACHE - SELLERIE                        11\n",
       "                                                        DECORATION DE L'HABITAT                    4\n",
       "                                                        EDUCATION - ACTIVITE                       9\n",
       "                                                        HABITAT - COUCHAGE                        18\n",
       "                                                        HYGIENE LITIERE DEJECTIONS                12\n",
       "                                                        JOUET                                     12\n",
       "                                                        MATERIEL DE TOILETTAGE                    13\n",
       "                                                        MATERNAGE - ELEVAGE                        4\n",
       "                                                        PRODUIT DE SOIN - HYGIENE                 11\n",
       "                                                        SECURITE - PROTECTION                      7\n",
       "                                                        TRANSPORT - DEPLACEMENT - PROMENADE        7\n",
       "                                                        VETEMENT - ACCESSOIRE                     18\n",
       "                 APICULTURE                             OUTILS DE L'APICULTEUR                     1\n",
       "                 ART DE LA TABLE - ARTICLES CULINAIRES  ACCESSOIRE DE CUISINE                     26\n",
       "                                                        CONSERVATION DES ALIMENTS                 12\n",
       "                                                        CUISSON DES ALIMENTS                      28\n",
       "                                                        DECOUPE DES ALIMENTS                      14\n",
       "                                                        REPAS NOMADE                               3\n",
       "                                                        SERVICE APERITIF - OENOLOGIE              20\n",
       "                                                        SERVICE DE TABLE                          43\n",
       "                                                        SERVICE PETIT DEJEUNER                    10\n",
       "                                                        USTENSILES DE CUISINE                     44\n",
       "                                                                                                  ..\n",
       "category_level3  TELEPHONIE - GPS                       ACCESSOIRE GPS                            15\n",
       "                                                        ACCESSOIRE TELEPHONE                      43\n",
       "                                                        GPS                                        6\n",
       "                                                        MONTRE INTELLIGENTE - MONTRE CONNECTEE     7\n",
       "                                                        RADIOCOMMUNICATION                         5\n",
       "                                                        SMARTPHONE - MOBILE                        6\n",
       "                                                        TELEPHONIE FIXE                            3\n",
       "                 TENUE PROFESSIONNELLE                  ACCESSOIRE PROFESSIONNEL                   6\n",
       "                                                        CHAUSSURES PROFESSIONNELLES                7\n",
       "                                                        COIFFE PROFESSIONNELLE                    10\n",
       "                                                        VETEMENT PROFESSIONNEL                    19\n",
       "                 TV - VIDEO - SON                       ACCESSOIRES TV - VIDEO - SON              20\n",
       "                                                        AMPLIFICATEUR - ENCEINTES                 10\n",
       "                                                        ANTENNE - PARABOLE                         8\n",
       "                                                        CAR AUDIO                                  7\n",
       "                                                        CASQUE - MICROPHONE - DICTAPHONE           5\n",
       "                                                        HOME CINEMA                                3\n",
       "                                                        LECTEUR - ENREGISTREUR VIDEO               5\n",
       "                                                        LECTEUR MUSIQUE                           13\n",
       "                                                        PROTECTION - ENTRETIEN                    10\n",
       "                                                        TELEVISEUR                                 2\n",
       "                                                        VIDEOPROJECTION                            6\n",
       "                 VIN - ALCOOL - LIQUIDES                ALCOOL                                     7\n",
       "                                                        APERITIF                                   4\n",
       "                                                        BIERE ET CIDRE                             3\n",
       "                                                        CHAMPAGNE - PETILLANT - MOUSSEUX           2\n",
       "                                                        COFFRET CADEAU                             2\n",
       "                                                        EAU                                        2\n",
       "                                                        JUS - SODA -SIROP-BOISSON LACTEE           6\n",
       "                                                        VIN                                        4\n",
       "Length: 972, dtype: int64"
      ]
     },
     "execution_count": 5,
     "metadata": {},
     "output_type": "execute_result"
    }
   ],
   "source": [
    "category_data.pivot_table(columns=[\"category_level1\", \"category_level2\"],aggfunc=lambda x: len(x.unique()))"
   ]
  },
  {
   "cell_type": "code",
   "execution_count": null,
   "metadata": {
    "collapsed": true
   },
   "outputs": [],
   "source": []
  }
 ],
 "metadata": {
  "kernelspec": {
   "display_name": "Python 3",
   "language": "python",
   "name": "python3"
  },
  "language_info": {
   "codemirror_mode": {
    "name": "ipython",
    "version": 3
   },
   "file_extension": ".py",
   "mimetype": "text/x-python",
   "name": "python",
   "nbconvert_exporter": "python",
   "pygments_lexer": "ipython3",
   "version": "3.4.3"
  }
 },
 "nbformat": 4,
 "nbformat_minor": 2
}
